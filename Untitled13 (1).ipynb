{
 "cells": [
  {
   "cell_type": "code",
   "execution_count": 1,
   "id": "1134fecb-dbd4-4192-bb84-38e796440a40",
   "metadata": {},
   "outputs": [],
   "source": [
    "import sqlite3 as sq"
   ]
  },
  {
   "cell_type": "code",
   "execution_count": 8,
   "id": "3a547ff5-2748-441b-94d9-27d8053b4924",
   "metadata": {},
   "outputs": [],
   "source": [
    "conn=sq.connect(\"C:/23BCA288/database/employee1.db\")"
   ]
  },
  {
   "cell_type": "code",
   "execution_count": 9,
   "id": "8140a49a-f81e-4615-a253-97c7975f73d3",
   "metadata": {},
   "outputs": [],
   "source": [
    "cur=conn.cursor()"
   ]
  },
  {
   "cell_type": "code",
   "execution_count": 10,
   "id": "5b20fa17-08c0-4957-9b39-67021beadb46",
   "metadata": {},
   "outputs": [
    {
     "data": {
      "text/plain": [
       "<sqlite3.Cursor at 0x26bf673e3c0>"
      ]
     },
     "execution_count": 10,
     "metadata": {},
     "output_type": "execute_result"
    }
   ],
   "source": [
    "cur.execute(\"create table if not exists emp(empid primary key,empname,salary)\")"
   ]
  },
  {
   "cell_type": "code",
   "execution_count": 16,
   "id": "3853ae29-8152-46f0-9bce-d46ee8837a6e",
   "metadata": {},
   "outputs": [
    {
     "data": {
      "text/plain": [
       "<sqlite3.Cursor at 0x26bf673e3c0>"
      ]
     },
     "execution_count": 16,
     "metadata": {},
     "output_type": "execute_result"
    }
   ],
   "source": [
    "cur.execute(\"insert into emp values(101,'dhruvi',1000),(102,'ayushi',2000),(103,'ridhi',3000),(104,'payal',4000),(105,'palak',5000),(106,'dhruv',6000),(107,'harsh',7000),(108,'jay',8000)\")"
   ]
  },
  {
   "cell_type": "markdown",
   "id": "933f5fe2-0653-49de-a470-a24257da76b8",
   "metadata": {},
   "source": [
    "#all record print"
   ]
  },
  {
   "cell_type": "code",
   "execution_count": 17,
   "id": "7da2456c-7e86-4aca-b778-253d5ebeb43a",
   "metadata": {},
   "outputs": [
    {
     "data": {
      "text/plain": [
       "<sqlite3.Cursor at 0x26bf673e3c0>"
      ]
     },
     "execution_count": 17,
     "metadata": {},
     "output_type": "execute_result"
    }
   ],
   "source": [
    "cur.execute(\"select * from emp;\")"
   ]
  },
  {
   "cell_type": "code",
   "execution_count": 18,
   "id": "20e1fb3d-5348-480b-8e43-9704ced76e28",
   "metadata": {},
   "outputs": [],
   "source": [
    "r=cur.fetchall()"
   ]
  },
  {
   "cell_type": "code",
   "execution_count": 19,
   "id": "db1a38aa-c654-4f37-b320-787453725c6f",
   "metadata": {},
   "outputs": [
    {
     "name": "stdout",
     "output_type": "stream",
     "text": [
      "[(101, 'dhruvi', 1000), (102, 'ayushi', 2000), (103, 'ridhi', 3000), (104, 'payal', 4000), (105, 'palak', 5000), (106, 'dhruv', 6000), (107, 'harsh', 7000), (108, 'jay', 8000)]\n"
     ]
    }
   ],
   "source": [
    "print(r)"
   ]
  },
  {
   "cell_type": "code",
   "execution_count": 21,
   "id": "46595217-34ce-4c94-a809-fcfa518200f0",
   "metadata": {},
   "outputs": [],
   "source": []
  },
  {
   "cell_type": "code",
   "execution_count": null,
   "id": "05f21ae9-c969-4a7d-9037-6743d30d02ba",
   "metadata": {},
   "outputs": [],
   "source": []
  },
  {
   "cell_type": "code",
   "execution_count": null,
   "id": "f3de802e-79bf-4040-ae17-710872dffea7",
   "metadata": {},
   "outputs": [],
   "source": []
  }
 ],
 "metadata": {
  "kernelspec": {
   "display_name": "Python 3 (ipykernel)",
   "language": "python",
   "name": "python3"
  },
  "language_info": {
   "codemirror_mode": {
    "name": "ipython",
    "version": 3
   },
   "file_extension": ".py",
   "mimetype": "text/x-python",
   "name": "python",
   "nbconvert_exporter": "python",
   "pygments_lexer": "ipython3",
   "version": "3.12.4"
  }
 },
 "nbformat": 4,
 "nbformat_minor": 5
}
